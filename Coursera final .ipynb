{
 "cells": [
  {
   "cell_type": "markdown",
   "id": "c08c32ef",
   "metadata": {},
   "source": [
    "# My Jupyter Notebook on IBM Watson Studio\n"
   ]
  },
  {
   "cell_type": "markdown",
   "id": "d887867f",
   "metadata": {},
   "source": [
    "**Kev Zha**\n",
    "\n",
    "Doctor"
   ]
  },
  {
   "cell_type": "markdown",
   "id": "4543afc5",
   "metadata": {},
   "source": [
    "*I am interested in data science because I want to code*"
   ]
  },
  {
   "cell_type": "markdown",
   "id": "e8c20b88",
   "metadata": {},
   "source": [
    "#### Below code should print out Hello World"
   ]
  },
  {
   "cell_type": "code",
   "execution_count": 1,
   "id": "72c68ed9",
   "metadata": {},
   "outputs": [
    {
     "name": "stdout",
     "output_type": "stream",
     "text": [
      "Hello world\n"
     ]
    }
   ],
   "source": [
    "print (\"Hello world\")"
   ]
  },
  {
   "cell_type": "markdown",
   "id": "4badbc78",
   "metadata": {},
   "source": [
    "| Column 1 | Column 2 |\n",
    "|-----|-----|\n",
    "| entry 1 | entry 2 |\n",
    "\n",
    "---\n",
    "* list 1\n",
    "* list 2\n",
    "* list 3\n",
    "---\n",
    "This is a [hyperlink](www.bbc.co.uk)\n",
    "\n",
    "---\n",
    ">blocked quote\n",
    "---\n",
    "\n"
   ]
  }
 ],
 "metadata": {
  "kernelspec": {
   "display_name": "Python 3 (ipykernel)",
   "language": "python",
   "name": "python3"
  },
  "language_info": {
   "codemirror_mode": {
    "name": "ipython",
    "version": 3
   },
   "file_extension": ".py",
   "mimetype": "text/x-python",
   "name": "python",
   "nbconvert_exporter": "python",
   "pygments_lexer": "ipython3",
   "version": "3.9.7"
  }
 },
 "nbformat": 4,
 "nbformat_minor": 5
}
